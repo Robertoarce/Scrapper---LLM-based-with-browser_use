{
 "cells": [
  {
   "cell_type": "code",
   "execution_count": 5,
   "id": "9e511827",
   "metadata": {},
   "outputs": [],
   "source": [
    "import os\n",
    "import json\n"
   ]
  },
  {
   "cell_type": "code",
   "execution_count": 13,
   "id": "a165017e",
   "metadata": {},
   "outputs": [
    {
     "name": "stdout",
     "output_type": "stream",
     "text": [
      "Total listings: 24\n",
      "First 3 listings:\n",
      "Listing 1: {'price': '1295000', 'm2': '111', 'district': '11'}\n",
      "Listing 2: {'price': '200000', 'm2': '13', 'district': '15'}\n",
      "Listing 3: {'price': '220000', 'm2': '29', 'district': '18'}\n"
     ]
    }
   ],
   "source": [
    "# Read and load the JSON file\n",
    "with open(\"all_listings.json\", \"r\") as file:\n",
    "    data = json.load(file)\n",
    "\n",
    "# Display the first few listings to see the structure\n",
    "print(f\"Total listings: {len(data)}\")\n",
    "print(f\"First 3 listings:\")\n",
    "for i, listing in enumerate(data[:3]):\n",
    "    print(f\"Listing {i+1}: {listing}\")"
   ]
  },
  {
   "cell_type": "code",
   "execution_count": 22,
   "id": "6fdb7959",
   "metadata": {},
   "outputs": [],
   "source": [
    "with open(\"all_listings.json\", \"r\") as file:\n",
    "    data = json.load(file)\n",
    "    \n"
   ]
  },
  {
   "cell_type": "code",
   "execution_count": 25,
   "id": "4158ec43",
   "metadata": {},
   "outputs": [
    {
     "name": "stdout",
     "output_type": "stream",
     "text": [
      "1295000,111,11\n",
      "200000,13,15\n",
      "220000,29,18\n",
      "280000,28,14\n",
      "113851,24,19\n",
      "530000,43,20\n",
      "315000,24,5\n",
      "1495000,95,7\n",
      "186400,21,18\n",
      "2730000,307,12\n",
      "797000,73,3\n",
      "1795000,112,6\n",
      "595000,77,10\n",
      "1045000,79,16\n",
      "359000,36,2\n",
      "2100000,106,3\n",
      "199000,16,15\n",
      "280000,25,7\n",
      "1245000,95,9\n",
      "3913000,348,17\n",
      "343000,38,15\n",
      "312000,18,4\n",
      "343000,38,15\n",
      "312000,18,4\n"
     ]
    }
   ],
   "source": [
    "for i, listing in enumerate(data):\n",
    "    print(f\"{listing['price']},{listing['m2']},{listing['district']}\")"
   ]
  },
  {
   "cell_type": "code",
   "execution_count": null,
   "id": "fa6e9c55",
   "metadata": {},
   "outputs": [],
   "source": [
    "\"price\",\"m2\",\"district\""
   ]
  }
 ],
 "metadata": {
  "kernelspec": {
   "display_name": "scrap",
   "language": "python",
   "name": "python3"
  },
  "language_info": {
   "codemirror_mode": {
    "name": "ipython",
    "version": 3
   },
   "file_extension": ".py",
   "mimetype": "text/x-python",
   "name": "python",
   "nbconvert_exporter": "python",
   "pygments_lexer": "ipython3",
   "version": "3.11.13"
  }
 },
 "nbformat": 4,
 "nbformat_minor": 5
}
